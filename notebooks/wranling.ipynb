{
 "cells": [
  {
   "cell_type": "code",
   "execution_count": 3,
   "metadata": {},
   "outputs": [],
   "source": [
    "import pandas as pd\n",
    "import json\n",
    "\n",
    "# Load the data\n",
    "data = pd.read_csv('../data/data.csv')\n",
    "\n",
    "# Extract the response variable and predictors\n",
    "response = data.iloc[:, -1]  # Last column as response variable\n",
    "predictors = data.iloc[:, 1:4025]  # Columns 2 to 4025 for predictors\n",
    "\n",
    "# Prepare the dictionary for stan_data\n",
    "stan_data = {\n",
    "    'N': predictors.shape[0],         # Number of observations\n",
    "    'P': predictors.shape[1],         # Number of predictors\n",
    "    'X': predictors.values.tolist(),  # Predictor matrix as a list of lists\n",
    "    'y': response.tolist()            # Response variable as a list\n",
    "}\n",
    "\n",
    "# Save to JSON file\n",
    "with open('../data/stan_data.json', 'w') as f:\n",
    "    json.dump(stan_data, f, indent=2)"
   ]
  },
  {
   "cell_type": "code",
   "execution_count": null,
   "metadata": {},
   "outputs": [],
   "source": []
  }
 ],
 "metadata": {
  "kernelspec": {
   "display_name": "Python 3",
   "language": "python",
   "name": "python3"
  },
  "language_info": {
   "codemirror_mode": {
    "name": "ipython",
    "version": 3
   },
   "file_extension": ".py",
   "mimetype": "text/x-python",
   "name": "python",
   "nbconvert_exporter": "python",
   "pygments_lexer": "ipython3",
   "version": "3.11.1"
  }
 },
 "nbformat": 4,
 "nbformat_minor": 2
}
